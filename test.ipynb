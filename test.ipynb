{
 "cells": [
  {
   "cell_type": "code",
   "execution_count": 1,
   "metadata": {},
   "outputs": [],
   "source": [
    "import os, shutil\n",
    "import matplotlib.pyplot as plt\n",
    "from PIL import Image\n",
    "\n",
    "from patches import Patches"
   ]
  },
  {
   "cell_type": "code",
   "execution_count": 2,
   "metadata": {},
   "outputs": [],
   "source": [
    "img = plt.imread('pink.jpg')\n",
    "# im = Image.fromarray(img)\n",
    "# img = np.array(im.resize((400, 300)))"
   ]
  },
  {
   "cell_type": "code",
   "execution_count": 3,
   "metadata": {},
   "outputs": [
    {
     "name": "stderr",
     "output_type": "stream",
     "text": [
      "Computing cache: 100%|██████████| 172800/172800 [00:01<00:00, 169539.57it/s]\n",
      "Bulk merging patches: 975932it [00:08, 110191.11it/s]                           \n",
      "Recomputing cache: 100%|██████████| 1189/1189 [00:00<00:00, 68854.02it/s]\n",
      "Single merging patches: 100%|██████████| 1188/1188 [00:00<00:00, 2207.16it/s]\n"
     ]
    }
   ],
   "source": [
    "p = Patches(img)\n",
    "output = p.run()\n",
    "if os.path.exists(\"temp\"):\n",
    "    shutil.rmtree(\"temp\")\n",
    "os.mkdir(\"temp\")\n",
    "for count, arr in output:\n",
    "    plt.imsave(f\"temp/{count}.png\", arr)"
   ]
  }
 ],
 "metadata": {
  "kernelspec": {
   "display_name": ".rajaravi_venv",
   "language": "python",
   "name": "python3"
  },
  "language_info": {
   "codemirror_mode": {
    "name": "ipython",
    "version": 3
   },
   "file_extension": ".py",
   "mimetype": "text/x-python",
   "name": "python",
   "nbconvert_exporter": "python",
   "pygments_lexer": "ipython3",
   "version": "3.9.1"
  }
 },
 "nbformat": 4,
 "nbformat_minor": 2
}
