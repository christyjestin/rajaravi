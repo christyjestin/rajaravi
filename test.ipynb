{
 "cells": [
  {
   "cell_type": "code",
   "execution_count": 1,
   "metadata": {},
   "outputs": [],
   "source": [
    "import time, os\n",
    "import numpy as np\n",
    "import matplotlib.pyplot as plt\n",
    "from PIL import Image\n",
    "\n",
    "from patches import Patches"
   ]
  },
  {
   "cell_type": "code",
   "execution_count": 2,
   "metadata": {},
   "outputs": [],
   "source": [
    "img = plt.imread('3261.webp')\n",
    "# im = Image.fromarray(img)\n",
    "# img = np.array(im.resize((600, 750)))"
   ]
  },
  {
   "cell_type": "code",
   "execution_count": 3,
   "metadata": {},
   "outputs": [
    {
     "name": "stderr",
     "output_type": "stream",
     "text": [
      "Computing cache:   0%|          | 0/1080000 [00:00<?, ?it/s]c:\\Users\\cjj90\\Downloads\\Code Projects\\Varma\\patches.py:15: NumbaPendingDeprecationWarning: \u001b[1m\u001b[1mCode using Numba extension API maybe depending on 'old_style' error-capturing, which is deprecated and will be replaced by 'new_style' in a future release. See details at https://numba.readthedocs.io/en/latest/reference/deprecation.html#deprecation-of-old-style-numba-captured-errors\n",
      "Exception origin:\n",
      "  File \"c:\\Users\\cjj90\\Downloads\\Code Projects\\Varma\\.venv\\lib\\site-packages\\numba\\np\\linalg.py\", line 66, in ensure_lapack\n",
      "    raise ImportError(\"scipy 0.16+ is required for linear algebra\")\n",
      "\u001b[0m\u001b[0m\n",
      "  return np.linalg.norm((a - b) / 256) * 256\n",
      "Computing cache:   0%|          | 0/1080000 [00:00<?, ?it/s]\n"
     ]
    },
    {
     "ename": "TypingError",
     "evalue": "Failed in nopython mode pipeline (step: nopython frontend)\n\u001b[1m\u001b[1m\u001b[1mNo implementation of function Function(<function norm at 0x0000025A42EAF790>) found for signature:\n \n >>> norm(array(float32, 1d, C))\n \nThere are 2 candidate implementations:\n\u001b[1m  - Of which 2 did not match due to:\n  Overload in function 'norm_impl': File: numba\\np\\linalg.py: Line 2427.\n    With argument(s): '(array(float32, 1d, C))':\u001b[0m\n\u001b[1m   Rejected as the implementation raised a specific error:\n     ImportError: scipy 0.16+ is required for linear algebra\u001b[0m\n  raised from c:\\Users\\cjj90\\Downloads\\Code Projects\\Varma\\.venv\\lib\\site-packages\\numba\\np\\linalg.py:66\n\u001b[0m\n\u001b[0m\u001b[1mDuring: resolving callee type: Function(<function norm at 0x0000025A42EAF790>)\u001b[0m\n\u001b[0m\u001b[1mDuring: typing of call at c:\\Users\\cjj90\\Downloads\\Code Projects\\Varma\\patches.py (15)\n\u001b[0m\n\u001b[1m\nFile \"patches.py\", line 15:\u001b[0m\n\u001b[1mdef dist(a: np.ndarray, b: np.ndarray):\n    <source elided>\n    # divide before computing norm to avoid numerical overflow\n\u001b[1m    return np.linalg.norm((a - b) / 256) * 256\n\u001b[0m    \u001b[1m^\u001b[0m\u001b[0m\n",
     "output_type": "error",
     "traceback": [
      "\u001b[1;31m---------------------------------------------------------------------------\u001b[0m",
      "\u001b[1;31mTypingError\u001b[0m                               Traceback (most recent call last)",
      "Cell \u001b[1;32mIn[3], line 2\u001b[0m\n\u001b[0;32m      1\u001b[0m start \u001b[38;5;241m=\u001b[39m time\u001b[38;5;241m.\u001b[39mtime()\n\u001b[1;32m----> 2\u001b[0m p \u001b[38;5;241m=\u001b[39m \u001b[43mPatches\u001b[49m\u001b[43m(\u001b[49m\u001b[43mimg\u001b[49m\u001b[43m)\u001b[49m\n\u001b[0;32m      3\u001b[0m output \u001b[38;5;241m=\u001b[39m p\u001b[38;5;241m.\u001b[39mrun()\n\u001b[0;32m      4\u001b[0m \u001b[38;5;28mprint\u001b[39m(np\u001b[38;5;241m.\u001b[39mrint((time\u001b[38;5;241m.\u001b[39mtime() \u001b[38;5;241m-\u001b[39m start) \u001b[38;5;241m/\u001b[39m \u001b[38;5;241m1000\u001b[39m))\n",
      "File \u001b[1;32mc:\\Users\\cjj90\\Downloads\\Code Projects\\Varma\\patches.py:49\u001b[0m, in \u001b[0;36mPatches.__init__\u001b[1;34m(self, img)\u001b[0m\n\u001b[0;32m     47\u001b[0m \u001b[38;5;28;01mfor\u001b[39;00m j \u001b[38;5;129;01min\u001b[39;00m \u001b[38;5;28mself\u001b[39m\u001b[38;5;241m.\u001b[39mpatch_adjacencies[i]:\n\u001b[0;32m     48\u001b[0m     \u001b[38;5;28;01mif\u001b[39;00m i \u001b[38;5;241m<\u001b[39m j: \u001b[38;5;66;03m# only add each pair once\u001b[39;00m\n\u001b[1;32m---> 49\u001b[0m         \u001b[38;5;28mself\u001b[39m\u001b[38;5;241m.\u001b[39mneg_dists[(i, j)] \u001b[38;5;241m=\u001b[39m \u001b[38;5;28;43mself\u001b[39;49m\u001b[38;5;241;43m.\u001b[39;49m\u001b[43mcompute_neg_dist\u001b[49m\u001b[43m(\u001b[49m\u001b[43mi\u001b[49m\u001b[43m,\u001b[49m\u001b[43m \u001b[49m\u001b[43mj\u001b[49m\u001b[43m)\u001b[49m\n",
      "File \u001b[1;32mc:\\Users\\cjj90\\Downloads\\Code Projects\\Varma\\patches.py:60\u001b[0m, in \u001b[0;36mPatches.compute_neg_dist\u001b[1;34m(self, i, j)\u001b[0m\n\u001b[0;32m     59\u001b[0m \u001b[38;5;28;01mdef\u001b[39;00m \u001b[38;5;21mcompute_neg_dist\u001b[39m(\u001b[38;5;28mself\u001b[39m, i, j):\n\u001b[1;32m---> 60\u001b[0m     \u001b[38;5;28;01mreturn\u001b[39;00m \u001b[38;5;241m-\u001b[39m\u001b[43mdist\u001b[49m\u001b[43m(\u001b[49m\u001b[38;5;28;43mself\u001b[39;49m\u001b[38;5;241;43m.\u001b[39;49m\u001b[43mpatch_colors\u001b[49m\u001b[43m[\u001b[49m\u001b[43mi\u001b[49m\u001b[43m]\u001b[49m\u001b[43m,\u001b[49m\u001b[43m \u001b[49m\u001b[38;5;28;43mself\u001b[39;49m\u001b[38;5;241;43m.\u001b[39;49m\u001b[43mpatch_colors\u001b[49m\u001b[43m[\u001b[49m\u001b[43mj\u001b[49m\u001b[43m]\u001b[49m\u001b[43m)\u001b[49m\n",
      "File \u001b[1;32mc:\\Users\\cjj90\\Downloads\\Code Projects\\Varma\\.venv\\lib\\site-packages\\numba\\core\\dispatcher.py:468\u001b[0m, in \u001b[0;36m_DispatcherBase._compile_for_args\u001b[1;34m(self, *args, **kws)\u001b[0m\n\u001b[0;32m    464\u001b[0m         msg \u001b[38;5;241m=\u001b[39m (\u001b[38;5;124mf\u001b[39m\u001b[38;5;124m\"\u001b[39m\u001b[38;5;132;01m{\u001b[39;00m\u001b[38;5;28mstr\u001b[39m(e)\u001b[38;5;241m.\u001b[39mrstrip()\u001b[38;5;132;01m}\u001b[39;00m\u001b[38;5;124m \u001b[39m\u001b[38;5;130;01m\\n\u001b[39;00m\u001b[38;5;130;01m\\n\u001b[39;00m\u001b[38;5;124mThis error may have been caused \u001b[39m\u001b[38;5;124m\"\u001b[39m\n\u001b[0;32m    465\u001b[0m                \u001b[38;5;124mf\u001b[39m\u001b[38;5;124m\"\u001b[39m\u001b[38;5;124mby the following argument(s):\u001b[39m\u001b[38;5;130;01m\\n\u001b[39;00m\u001b[38;5;132;01m{\u001b[39;00margs_str\u001b[38;5;132;01m}\u001b[39;00m\u001b[38;5;130;01m\\n\u001b[39;00m\u001b[38;5;124m\"\u001b[39m)\n\u001b[0;32m    466\u001b[0m         e\u001b[38;5;241m.\u001b[39mpatch_message(msg)\n\u001b[1;32m--> 468\u001b[0m     \u001b[43merror_rewrite\u001b[49m\u001b[43m(\u001b[49m\u001b[43me\u001b[49m\u001b[43m,\u001b[49m\u001b[43m \u001b[49m\u001b[38;5;124;43m'\u001b[39;49m\u001b[38;5;124;43mtyping\u001b[39;49m\u001b[38;5;124;43m'\u001b[39;49m\u001b[43m)\u001b[49m\n\u001b[0;32m    469\u001b[0m \u001b[38;5;28;01mexcept\u001b[39;00m errors\u001b[38;5;241m.\u001b[39mUnsupportedError \u001b[38;5;28;01mas\u001b[39;00m e:\n\u001b[0;32m    470\u001b[0m     \u001b[38;5;66;03m# Something unsupported is present in the user code, add help info\u001b[39;00m\n\u001b[0;32m    471\u001b[0m     error_rewrite(e, \u001b[38;5;124m'\u001b[39m\u001b[38;5;124munsupported_error\u001b[39m\u001b[38;5;124m'\u001b[39m)\n",
      "File \u001b[1;32mc:\\Users\\cjj90\\Downloads\\Code Projects\\Varma\\.venv\\lib\\site-packages\\numba\\core\\dispatcher.py:409\u001b[0m, in \u001b[0;36m_DispatcherBase._compile_for_args.<locals>.error_rewrite\u001b[1;34m(e, issue_type)\u001b[0m\n\u001b[0;32m    407\u001b[0m     \u001b[38;5;28;01mraise\u001b[39;00m e\n\u001b[0;32m    408\u001b[0m \u001b[38;5;28;01melse\u001b[39;00m:\n\u001b[1;32m--> 409\u001b[0m     \u001b[38;5;28;01mraise\u001b[39;00m e\u001b[38;5;241m.\u001b[39mwith_traceback(\u001b[38;5;28;01mNone\u001b[39;00m)\n",
      "\u001b[1;31mTypingError\u001b[0m: Failed in nopython mode pipeline (step: nopython frontend)\n\u001b[1m\u001b[1m\u001b[1mNo implementation of function Function(<function norm at 0x0000025A42EAF790>) found for signature:\n \n >>> norm(array(float32, 1d, C))\n \nThere are 2 candidate implementations:\n\u001b[1m  - Of which 2 did not match due to:\n  Overload in function 'norm_impl': File: numba\\np\\linalg.py: Line 2427.\n    With argument(s): '(array(float32, 1d, C))':\u001b[0m\n\u001b[1m   Rejected as the implementation raised a specific error:\n     ImportError: scipy 0.16+ is required for linear algebra\u001b[0m\n  raised from c:\\Users\\cjj90\\Downloads\\Code Projects\\Varma\\.venv\\lib\\site-packages\\numba\\np\\linalg.py:66\n\u001b[0m\n\u001b[0m\u001b[1mDuring: resolving callee type: Function(<function norm at 0x0000025A42EAF790>)\u001b[0m\n\u001b[0m\u001b[1mDuring: typing of call at c:\\Users\\cjj90\\Downloads\\Code Projects\\Varma\\patches.py (15)\n\u001b[0m\n\u001b[1m\nFile \"patches.py\", line 15:\u001b[0m\n\u001b[1mdef dist(a: np.ndarray, b: np.ndarray):\n    <source elided>\n    # divide before computing norm to avoid numerical overflow\n\u001b[1m    return np.linalg.norm((a - b) / 256) * 256\n\u001b[0m    \u001b[1m^\u001b[0m\u001b[0m\n"
     ]
    }
   ],
   "source": [
    "start = time.time()\n",
    "p = Patches(img)\n",
    "output = p.run()\n",
    "print(np.rint((time.time() - start) / 1000))\n",
    "os.mkdir(\"temp\")\n",
    "for count, arr in output:\n",
    "    plt.imsave(f\"temp/{count}.png\", arr)"
   ]
  }
 ],
 "metadata": {
  "kernelspec": {
   "display_name": ".venv",
   "language": "python",
   "name": "python3"
  },
  "language_info": {
   "codemirror_mode": {
    "name": "ipython",
    "version": 3
   },
   "file_extension": ".py",
   "mimetype": "text/x-python",
   "name": "python",
   "nbconvert_exporter": "python",
   "pygments_lexer": "ipython3",
   "version": "3.8.7"
  }
 },
 "nbformat": 4,
 "nbformat_minor": 2
}
