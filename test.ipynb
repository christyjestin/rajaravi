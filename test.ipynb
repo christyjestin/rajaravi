{
 "cells": [
  {
   "cell_type": "code",
   "execution_count": 1,
   "metadata": {},
   "outputs": [],
   "source": [
    "import os\n",
    "import numpy as np\n",
    "import matplotlib.pyplot as plt\n",
    "from PIL import Image\n",
    "\n",
    "from patches import Patches"
   ]
  },
  {
   "cell_type": "code",
   "execution_count": 2,
   "metadata": {},
   "outputs": [],
   "source": [
    "img = plt.imread('3261.webp')\n",
    "# im = Image.fromarray(img)\n",
    "# img = np.array(im.resize((400, 300)))"
   ]
  },
  {
   "cell_type": "code",
   "execution_count": 3,
   "metadata": {},
   "outputs": [
    {
     "name": "stderr",
     "output_type": "stream",
     "text": [
      "Computing cache: 100%|██████████| 1080000/1080000 [00:04<00:00, 245297.10it/s]\n",
      "Bulk merging patches: 7736888it [01:00, 128119.37it/s]                           \n",
      "Recomputing cache: 100%|██████████| 1810/1810 [00:00<00:00, 129286.28it/s]\n",
      "Single merging patches: 100%|██████████| 1809/1809 [00:02<00:00, 886.54it/s] \n"
     ]
    }
   ],
   "source": [
    "p = Patches(img)\n",
    "output = p.run()\n",
    "os.makedirs(\"temp\", exist_ok=True)\n",
    "for count, arr in output:\n",
    "    plt.imsave(f\"temp/{count}.png\", arr)"
   ]
  }
 ],
 "metadata": {
  "kernelspec": {
   "display_name": ".rajaravi_venv",
   "language": "python",
   "name": "python3"
  },
  "language_info": {
   "codemirror_mode": {
    "name": "ipython",
    "version": 3
   },
   "file_extension": ".py",
   "mimetype": "text/x-python",
   "name": "python",
   "nbconvert_exporter": "python",
   "pygments_lexer": "ipython3",
   "version": "3.9.1"
  }
 },
 "nbformat": 4,
 "nbformat_minor": 2
}
