{
 "cells": [
  {
   "cell_type": "code",
   "execution_count": 1,
   "metadata": {},
   "outputs": [],
   "source": [
    "import os, shutil\n",
    "import numpy as np\n",
    "import matplotlib.pyplot as plt\n",
    "from PIL import Image\n",
    "\n",
    "from patches import Patches"
   ]
  },
  {
   "cell_type": "code",
   "execution_count": 2,
   "metadata": {},
   "outputs": [],
   "source": [
    "img = plt.imread('tea.jpg')\n",
    "im = Image.fromarray(img)\n",
    "img = np.array(im.resize((200, 300)))"
   ]
  },
  {
   "cell_type": "code",
   "execution_count": 3,
   "metadata": {},
   "outputs": [
    {
     "name": "stderr",
     "output_type": "stream",
     "text": [
      "Computing cache: 100%|██████████| 1080000/1080000 [00:04<00:00, 250790.85it/s]\n",
      "Bulk merging patches: 8460936it [01:08, 124185.42it/s]                           \n",
      "Recomputing cache: 100%|██████████| 1045/1045 [00:00<00:00, 104278.83it/s]\n",
      "Single merging patches: 100%|██████████| 1044/1044 [00:01<00:00, 630.05it/s]\n"
     ]
    }
   ],
   "source": [
    "p = Patches(img)\n",
    "output = p.run()\n",
    "if os.path.exists(\"temp\"):\n",
    "    shutil.rmtree(\"temp\")\n",
    "os.mkdir(\"temp\")\n",
    "for count, arr in output:\n",
    "    plt.imsave(f\"temp/{count}.png\", arr)"
   ]
  }
 ],
 "metadata": {
  "kernelspec": {
   "display_name": ".rajaravi_venv",
   "language": "python",
   "name": "python3"
  },
  "language_info": {
   "codemirror_mode": {
    "name": "ipython",
    "version": 3
   },
   "file_extension": ".py",
   "mimetype": "text/x-python",
   "name": "python",
   "nbconvert_exporter": "python",
   "pygments_lexer": "ipython3",
   "version": "3.9.1"
  }
 },
 "nbformat": 4,
 "nbformat_minor": 2
}
